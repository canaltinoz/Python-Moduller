{
 "cells": [
  {
   "cell_type": "code",
   "execution_count": null,
   "id": "4dce197e",
   "metadata": {},
   "outputs": [],
   "source": [
    "# dir(datetime) komutu ile sınıfın içindeki tüm modüllere ulaşabiliriz. Bu modülede en çok date, datetime,time,timedelta \n",
    "                                                                                                # modüllerini kullanıcaz\n",
    "    \n",
    "result=datetime.now()  #result değişkenine o anın gün ay yıl saat saniye salise değerlerini atar.\n",
    "result=datetime.today()\n",
    "\n",
    "result=datetime.now().month     # bu şekilde sadece gün ay yıl değerleri de atanabilir.\n",
    "result=datetime.now().year"
   ]
  },
  {
   "cell_type": "code",
   "execution_count": null,
   "id": "33e062f4",
   "metadata": {},
   "outputs": [],
   "source": [
    "simdi=datetime.now()\n",
    "result=datetime.ctime(simdi)  \n",
    "#simdi değişkenine atanan gün ay yıl saat saniye değerleini daha açıklayıcı(string) şekilde yazdırır.\n",
    "\n",
    "result=datetime.strftime(simdi,'%D %A')\n",
    "#strftime fonksiyonu ile açıklayıcı bilgilere erişebiliriz.\n",
    "#  %A,%B .... gibi ifadelerin anlamlarına internetten datetime modülü aratılarak bulunabilir."
   ]
  },
  {
   "cell_type": "code",
   "execution_count": null,
   "id": "5b5c0f94",
   "metadata": {},
   "outputs": [],
   "source": [
    "t='15 April 2019 hour 10:12:30'\n",
    "\n",
    "dt=datetime.strptime(t,'%d %B %Y hour %H:%M:%S') \n",
    "# strptime fonksiyonu sayesinde el ile girilen tarihi , tarih formatına çevirebiliriz. Burada kullanılan %A ,%B gibi ifadeler\n",
    "# ay,gün,yıl vb karşılık gelir. Hangisi neye karşılık geliyor öğrenmek için internetten datetime modülü aratılır."
   ]
  },
  {
   "cell_type": "code",
   "execution_count": null,
   "id": "d598a08e",
   "metadata": {},
   "outputs": [],
   "source": [
    "birthday=datetime(1983,5,9,12,10,30)\n",
    "# Bu şekilde manuel olarak bir tarih oluşturuldu ve birthday değişkenine atandı.\n",
    "# Sırasıyla yıl,ay,gün,saat,dakika,saniye girilmelidir.\n",
    "\n",
    "print(simdi-birthday)   # Bu şekilde kaç gün kaç saat kaç saniyedir hayatta olduğunuza ulaşabiliriz.\n",
    "                        #Oluşan ifadenin türü timedeltadır."
   ]
  },
  {
   "cell_type": "code",
   "execution_count": null,
   "id": "0fcf778d",
   "metadata": {},
   "outputs": [],
   "source": [
    "result=simdi-timedelta(days=730)  # bugunden 730 gün öncesinin tarihini yazdırır.\n",
    "result=simdi-timedelta(seconds=730)  # bugunden 730 saniye öncesinin tarihini yazdırır."
   ]
  }
 ],
 "metadata": {
  "kernelspec": {
   "display_name": "Python 3 (ipykernel)",
   "language": "python",
   "name": "python3"
  },
  "language_info": {
   "codemirror_mode": {
    "name": "ipython",
    "version": 3
   },
   "file_extension": ".py",
   "mimetype": "text/x-python",
   "name": "python",
   "nbconvert_exporter": "python",
   "pygments_lexer": "ipython3",
   "version": "3.10.6"
  }
 },
 "nbformat": 4,
 "nbformat_minor": 5
}
