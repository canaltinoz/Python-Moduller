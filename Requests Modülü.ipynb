{
 "cells": [
  {
   "cell_type": "code",
   "execution_count": null,
   "id": "e23ec78a",
   "metadata": {},
   "outputs": [],
   "source": [
    "# Bir web sitesinin html kaynak kodlarına ulaşmak için kullanılır.\n",
    "\n",
    "import requests "
   ]
  },
  {
   "cell_type": "code",
   "execution_count": null,
   "id": "696b59de",
   "metadata": {},
   "outputs": [],
   "source": [
    "result=requests.get(\"https://www.btkakademi.gov.tr/\")\n",
    "print(result) \n",
    "\n",
    "# result değişkenini yazdırdığımız zaman  ' Response [200] ' çıktısı verir. Bunun anlamı başarılı bir dönüş yapıldığıdır.\n",
    "# 200'ün anlamı her şey yolunda şeklindedir."
   ]
  },
  {
   "cell_type": "code",
   "execution_count": null,
   "id": "fe298bac",
   "metadata": {},
   "outputs": [],
   "source": [
    "result=requests.get(\"https://www.btkakademi.gov.tr/\")\n",
    "result=result.text\n",
    "print(result)\n",
    "\n",
    "# Bu kod https://www.btkakademi.gov.tr/ sitesinin html kodlarını yazdırır."
   ]
  }
 ],
 "metadata": {
  "kernelspec": {
   "display_name": "Python 3 (ipykernel)",
   "language": "python",
   "name": "python3"
  },
  "language_info": {
   "codemirror_mode": {
    "name": "ipython",
    "version": 3
   },
   "file_extension": ".py",
   "mimetype": "text/x-python",
   "name": "python",
   "nbconvert_exporter": "python",
   "pygments_lexer": "ipython3",
   "version": "3.10.6"
  }
 },
 "nbformat": 4,
 "nbformat_minor": 5
}
