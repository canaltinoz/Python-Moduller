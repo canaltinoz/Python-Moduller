{
 "cells": [
  {
   "cell_type": "code",
   "execution_count": null,
   "id": "da3169b8",
   "metadata": {},
   "outputs": [],
   "source": [
    "# html kod üzerinde analiz yapmayı sağlar\n",
    "\n",
    "from bs4 import BeautifulSoup"
   ]
  },
  {
   "cell_type": "code",
   "execution_count": null,
   "id": "26ce5a1a",
   "metadata": {},
   "outputs": [],
   "source": [
    "html_doc=\n",
    "\"\"\"\n",
    "\n",
    "<!doctype html>\n",
    "<html lang=\"en\">\n",
    "<head>\n",
    "    <meta charset=\"UTF-8\">\n",
    "    <meta name=\"viewport\"\n",
    "          content=\"width=device-width, user-scalable=no, initial-scale=1.0, maximum-scale=1.0, minimum-scale=1.0\">\n",
    "    <meta http-equiv=\"X-UA-Compatible\" content=\"ie=edge\">\n",
    "    <title>İLK WEB SAYFAM</title>\n",
    "</head>\n",
    "<body>\n",
    "</body>\n",
    "</html>\n",
    "\n",
    "\"\"\"\n",
    "\n",
    "# Bir html kod dizini html_doc değişkeni içine string olarak atandı.\n",
    "# html kod içinde üst etiketler parent;alt etiketler children olarak tanımlanır.Aynı hizada olan etiketlere siebling  denir."
   ]
  },
  {
   "cell_type": "code",
   "execution_count": null,
   "id": "514986c7",
   "metadata": {},
   "outputs": [],
   "source": [
    "soup = BeautifulSoup(html_doc,'html.parser')\n",
    "\n",
    "# önceden girilen html_doc, değişken olarak beautifulsoup içine verildi.\n",
    "# parser komutu analiz yapılacağı anlamına gelir. 'html.parser' ifadesi html dosya üzerinde analiz anlamına gelir.\n",
    "\n",
    "result=soup.prettify()\n",
    "print(result)\n",
    "\n",
    "# prettify fonksiyonu girilen html dosyasının dizimini düzeltir."
   ]
  },
  {
   "cell_type": "code",
   "execution_count": null,
   "id": "3d2401dd",
   "metadata": {},
   "outputs": [],
   "source": [
    "result=soup.title\n",
    "# Bu komut html kod içinde sadece title etiketini döndürür.\n",
    "\n",
    "result=soup.title.string\n",
    "#title etiketi içerisindeki string ifadeyi döndürür.\n",
    "\n",
    "result=soup.body   #body etiketini döndürür.\n",
    "result=soup.div    #div etiketini döndürür.\n",
    "result=soup.h2     #h2 etiketini döndürür.\n",
    "\n",
    "\n",
    "result=soup.find_all('h2')\n",
    "# Kod içerisinde birden fazla h2 etiketine sahip kısım olabilir.Bu durumda findall() kullanılır.\n",
    "# findall(), kod içerisindeki tüm h2 etiketlerini bir liste içinde döndürür.\n",
    "# soup.findall('h2')[0]\n",
    "# soup.findall('h2')[1] şeklinde listenin elemanlarına da ulaşabiliriz.\n",
    "\n",
    "result=soup.find_all('div')\n",
    "result=soup.find_all('h3')[0]                # Örnek kullanımlar.\n",
    "result=soup.find_all('h4')[2]\n",
    "\n",
    "\n",
    "result=soup.find_all('div')[1].ul.find_all('li')\n",
    "# 1. indisteki div etiketinin içindeki ul etiketinin içindeki tüm li etiketleri yazdırılır.\n"
   ]
  },
  {
   "cell_type": "code",
   "execution_count": null,
   "id": "0f257c91",
   "metadata": {},
   "outputs": [],
   "source": []
  }
 ],
 "metadata": {
  "kernelspec": {
   "display_name": "Python 3 (ipykernel)",
   "language": "python",
   "name": "python3"
  },
  "language_info": {
   "codemirror_mode": {
    "name": "ipython",
    "version": 3
   },
   "file_extension": ".py",
   "mimetype": "text/x-python",
   "name": "python",
   "nbconvert_exporter": "python",
   "pygments_lexer": "ipython3",
   "version": "3.10.6"
  }
 },
 "nbformat": 4,
 "nbformat_minor": 5
}
