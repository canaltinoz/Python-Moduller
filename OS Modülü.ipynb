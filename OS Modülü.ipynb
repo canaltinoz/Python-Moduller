{
 "cells": [
  {
   "cell_type": "code",
   "execution_count": null,
   "id": "2c58a847",
   "metadata": {},
   "outputs": [],
   "source": [
    "# işletim sistemi hakkında bilgiler sunar. Dosya işlemleri yapar.\n",
    "\n",
    "import os \n",
    "\n",
    "# bu şekilde import edilir."
   ]
  },
  {
   "cell_type": "code",
   "execution_count": null,
   "id": "30de6faf",
   "metadata": {},
   "outputs": [],
   "source": [
    "os.name  # işletim sisteminin ismini döner.\n",
    "os.getcwd() # yazılan python dosyasının(.py) konumunu döner.\n",
    "os.mkdir(\"newfile\")  # yazılan dosyasının konumunda \"newfile\" isminde yeni bir klasör oluşturur.\n",
    "os.makedirs(\"newdirectory/yeniklasör\") # .py dosyasının bulunduğu dizinde \"newdirectory\" ve bu klasörün altında \"yeniklasör adlarında klasörler oluşturur.\"\n",
    "os.makedirs(\"C:\\\\newdirectory/yeniklasör\") # C dizininde\"newdirectory\" ve bu klasörün altında \"yeniklasör adlarında klasörler oluşturur.\"\n",
    "\n",
    "\n",
    "os.chdir(\"C:\\\\\") # Bu şekilde C dizininine geçmiş oluruz.Mevcut konum gibi düşünülür. (.py dosyasının bulunduğu yer değil)\n",
    "                 # Bundan sonra os.mkdir(\"newfile\") yazılırsa oluşan klasör C:\\\\ altında olur."
   ]
  },
  {
   "cell_type": "code",
   "execution_count": null,
   "id": "58060a3f",
   "metadata": {},
   "outputs": [],
   "source": [
    "os.chdir(\"..\") # Bu şekilde .py dosyasının bir üst klasörüne geçmiş oluruz.\n",
    "os.chdir(\"../..\") # Bu şekilde 2 üst klasöre geçmiş oluruz.\n"
   ]
  },
  {
   "cell_type": "code",
   "execution_count": null,
   "id": "749dde40",
   "metadata": {},
   "outputs": [],
   "source": [
    "os.listdir() # Bulunulan dizini listeler.\n",
    "os.listdir(\"C:\\\\\") # C dizinini listeler.\n",
    "####################################################################################\n",
    "for dosya in os.listdir(\"C:\\\\\"):\n",
    "    if dosya.endswith(\".py\")\n",
    "        print(dosya)\n",
    "        \n",
    "    # Bu şekilde C dizininde sonu .py ile biten dosyalar listelenir.\n",
    "\n",
    "####################################################################################"
   ]
  },
  {
   "cell_type": "code",
   "execution_count": null,
   "id": "f39ce3e8",
   "metadata": {},
   "outputs": [],
   "source": [
    "os.stat(\"C:\\\\pythondeneme.py\") #C dizinin altındaki \"pytondeneme.py\" dosyası hakkında bilgiler yazdırır.\n",
    "                                # Bu bilgiler boyut,skt,oluşturulma tarihi vb şeklindedir.\n",
    "########################################################################################################################    \n",
    "result=os.stat(\"pythondeneme.py\")\n",
    "result=datetime.datetime.fromtimestamp(result.stat.st_ctime)\n",
    "print(result)\n",
    "\n",
    "  # Bu kod,pythondeme.py dosyasının oluşturulma zamanı ekrana yazdırılır.\n",
    "    #fromtimestamp komutu ile anlamsız bir halde olan oluşturulma zamanı bilgisi; gün,ay,yıl,saat,dakika türüne döner.\n",
    "    \n",
    "st_ctime => oluşturulma tarihi  (create)\n",
    "st_mtime => son değiştirilme tarihi (modify)\n",
    "st_atime => son erişilme tarihi (attain)\n"
   ]
  },
  {
   "cell_type": "code",
   "execution_count": null,
   "id": "586b6f28",
   "metadata": {},
   "outputs": [],
   "source": [
    "os.system(\"notepad.exe\") # windows uygulamasında bulunan notepad.exe çalıştırılır."
   ]
  },
  {
   "cell_type": "code",
   "execution_count": null,
   "id": "147a205f",
   "metadata": {},
   "outputs": [],
   "source": [
    "os.rename(\"newdirectory\",\"yeniklasör\") # isim değişikliği "
   ]
  },
  {
   "cell_type": "code",
   "execution_count": null,
   "id": "52a04cb6",
   "metadata": {},
   "outputs": [],
   "source": [
    "os.rmdir(\"newdirectory\") # içi boş dizinleri silmek için rmdir kullanılır.\n",
    "os.removedirs(\"newdirectory/yeniklasör\") # içi dolu olan klasörleri silmek için removedirs kullanılır."
   ]
  },
  {
   "cell_type": "code",
   "execution_count": null,
   "id": "4f469758",
   "metadata": {},
   "outputs": [],
   "source": [
    "os.path.abspath(\"main.py\") #main adlı dosyanın konumunu döner.\n",
    "os.path.exists(\"C:\\\\python\\main\") # belirtilen konumda main adlı dosya varsa True;yoksa False döner.\n",
    "os.path.isdir(\"C:\\\\python\") # belirtilen konumda python adındaki klasör ise True;değilse False döner.\n",
    "os.path.isfile(\"C:\\\\python\") # belirtilen konumda python adındaki dosya ise True;değilse False döner."
   ]
  },
  {
   "cell_type": "code",
   "execution_count": null,
   "id": "4ea78a78",
   "metadata": {},
   "outputs": [],
   "source": [
    "result= os.path.splitext(\"python.py\") # dosyanın ismi ile uzantısı ayrılır. Dosyanın ismini değiştirmeden önce yapılmalıdır.\n",
    "result[0] # dosyanın ismidir."
   ]
  }
 ],
 "metadata": {
  "kernelspec": {
   "display_name": "Python 3 (ipykernel)",
   "language": "python",
   "name": "python3"
  },
  "language_info": {
   "codemirror_mode": {
    "name": "ipython",
    "version": 3
   },
   "file_extension": ".py",
   "mimetype": "text/x-python",
   "name": "python",
   "nbconvert_exporter": "python",
   "pygments_lexer": "ipython3",
   "version": "3.10.6"
  }
 },
 "nbformat": 4,
 "nbformat_minor": 5
}
