{
 "cells": [
  {
   "cell_type": "code",
   "execution_count": null,
   "id": "c255a4cb",
   "metadata": {},
   "outputs": [],
   "source": [
    "# Cihazlar arası ortak bir veri taşıma modülür.\n",
    "# Elimizde bir dict yapısı var fakat bu dict , string olarak tanımlanmış.\n",
    "# Bu string ifadeyi json yardımıyla dict türüne çevirebiliriz."
   ]
  },
  {
   "cell_type": "code",
   "execution_count": null,
   "id": "635456ec",
   "metadata": {},
   "outputs": [],
   "source": [
    "import json\n",
    "\n",
    "person_string= '{'name':'ALİ','languages':'['python','C#']'}' # string türünde fakat içinde bir dict yapısı var.\n",
    "\n",
    "# json modülü yardımıyla bu string ifade dict türüne dönüştürülür.\n",
    "result=json.loads(person_string)         # Bu sayede person_string değişkeni dict yapısına çevrildi.\n"
   ]
  },
  {
   "cell_type": "code",
   "execution_count": null,
   "id": "b2e50828",
   "metadata": {},
   "outputs": [],
   "source": [
    "with open('person.json') as f:\n",
    "    data=json.loads(f)\n",
    "    print(data)\n",
    "\n",
    "# Dizinde bulunan person.json dosyasının içindeki ifade öncelikle dict türüne dönüştürüldü ardından ekrana yazdırıldı."
   ]
  },
  {
   "cell_type": "code",
   "execution_count": null,
   "id": "827b72d2",
   "metadata": {},
   "outputs": [],
   "source": [
    "# bir dict ifadesini .json içinde saklamak için öncelikle str türüne dönüştürülmelidir.\n",
    "\n",
    "person_dict={'name':'can','languages':'['python','c+']'}\n",
    "result=json.dumps(person_dict)\n",
    "\n",
    "# Bu şekilde person_dict değişkeninin türü dict'ten str'ye dönüştürüldü.\n",
    "# Bu dönüşümden sonra key,value değerlerine ulaşılamaz."
   ]
  },
  {
   "cell_type": "code",
   "execution_count": null,
   "id": "04477ecc",
   "metadata": {},
   "outputs": [],
   "source": [
    "with open('person.json','w') as f:\n",
    "    json.dumps('person_dict',f)\n",
    "\n",
    "#person.json içine person.dict ifadesi yazdırılmış olur.\n",
    "    "
   ]
  }
 ],
 "metadata": {
  "kernelspec": {
   "display_name": "Python 3 (ipykernel)",
   "language": "python",
   "name": "python3"
  },
  "language_info": {
   "codemirror_mode": {
    "name": "ipython",
    "version": 3
   },
   "file_extension": ".py",
   "mimetype": "text/x-python",
   "name": "python",
   "nbconvert_exporter": "python",
   "pygments_lexer": "ipython3",
   "version": "3.10.6"
  }
 },
 "nbformat": 4,
 "nbformat_minor": 5
}
