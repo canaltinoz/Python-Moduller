{
 "cells": [
  {
   "cell_type": "code",
   "execution_count": null,
   "id": "11d7b9b4",
   "metadata": {},
   "outputs": [],
   "source": [
    "import re\n",
    "\n",
    "# arama ifadeleri bulunur. arama kriterleri regular expression ile geliştirilebilir.\n"
   ]
  },
  {
   "cell_type": "code",
   "execution_count": 3,
   "id": "0b176267",
   "metadata": {},
   "outputs": [
    {
     "name": "stdout",
     "output_type": "stream",
     "text": [
      "['Python', 'programlama', '|', 'python', 'kursu', '|', '40', 'saat']\n"
     ]
    }
   ],
   "source": [
    "str=\"Python programlama | python kursu | 40 saat\"\n",
    "\n",
    "result=re.findall(\"python\",str)   # str içinde tüm \"python\" ifadelerini bulup , bunları result listesine atar.\n",
    "\n",
    "###########################################################################################################################\n",
    "\n",
    "result=re.split(\" \",str)  # str içindeki ifadeyi her boşluk karakterinde böler ve result listesine atar.\n",
    "\n",
    "#   ['Python', 'programlama', '|', 'python', 'kursu', '|', '40', 'saat'] çıktısını verir.\n",
    "\n",
    "###########################################################################################################################\n",
    "\n",
    "result=re.sub(\" \",\"-\",str) # str ifadesindeki boşluk karakterlerini - ile değiştirir.\n",
    "\n",
    "###########################################################################################################################\n"
   ]
  },
  {
   "cell_type": "code",
   "execution_count": null,
   "id": "5b0a446e",
   "metadata": {},
   "outputs": [],
   "source": [
    "result= re.search(\"Python\",str) \n",
    "# str içinde python kelimesini arar ve match objesi döner. Match objesinde kelimenin özellikleri bulunur.\n",
    "\n",
    "result=result.span()   # Bu şekilde python kelimesinin konumunu yazdırır. (   (0,6)   0.indexten 6.indexe kadar)"
   ]
  },
  {
   "cell_type": "code",
   "execution_count": null,
   "id": "6385c400",
   "metadata": {},
   "outputs": [],
   "source": [
    "result=re.findall(\"[abc]\",str) #str içinde a,b,c yi ayrı ayrı arar. Tek tek yazmak yerine toplu şekilde aranabilir.\n",
    "result=re.findall(\"[a-e]\",str) #str içinde a'dan e'ye tüm harfleri ayrı ayrı arar.\n",
    "result=re.findall(\"[^abc]\",str) #str içinde a,b,c dışındaki tüm harfleri arar.\n",
    "result=re.findall(\"[...]\",str) #str içinde üç basamaklı tüm ifadeleri döner.\n",
    "result=re.findall(\"[Py..on]\",str) #str içinde Py ile başlayıp on ile biten ifadeleri döner.\n",
    "result=re.findall(\"[^a]\",str) # str a ile başlıyor mu ? (Kelimeler değil cümlenin ilk harfi a ile başlıyor mu?)\n",
    "result=re.findall(\"[t$]\",str) # str t ile bitiyor mu ? (Kelimeler değil cümlenin son harfi a ile bitiyor mu?)\n",
    "\n",
    "# Tüm ifadeler =>    https://www.w3schools.com/python/python_regex.asp \n",
    "\n",
    "result=re.findall(\"\\$a\",str)   # $ işaretinde sonra a ifadesini arar. $ işareti burada \\ sayesinde yorumlanmaz.\n",
    "result=re.findall(\"\\Athe\",str)  # the kelimesi girilen str ifadesinin başında mı?\n",
    "result=re.findall(\"the\\Z\",str)  # the kelimesi girilen str ifadesinin sonunda mı?"
   ]
  }
 ],
 "metadata": {
  "kernelspec": {
   "display_name": "Python 3 (ipykernel)",
   "language": "python",
   "name": "python3"
  },
  "language_info": {
   "codemirror_mode": {
    "name": "ipython",
    "version": 3
   },
   "file_extension": ".py",
   "mimetype": "text/x-python",
   "name": "python",
   "nbconvert_exporter": "python",
   "pygments_lexer": "ipython3",
   "version": "3.10.6"
  }
 },
 "nbformat": 4,
 "nbformat_minor": 5
}
